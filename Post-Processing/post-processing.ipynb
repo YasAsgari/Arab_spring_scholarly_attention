{
 "cells": [
  {
   "cell_type": "code",
   "execution_count": 1,
   "metadata": {},
   "outputs": [],
   "source": [
    "import pandas as pd"
   ]
  },
  {
   "cell_type": "code",
   "execution_count": 2,
   "metadata": {},
   "outputs": [],
   "source": [
    "pop_df=pd.read_csv(r'C:\\Users\\Yasaman\\Downloads\\World_bank_population.csv',skiprows=3)\n",
    "pop_df=pop_df[['Country Code','2019']].dropna()\n",
    "pop_df['2019']=pop_df['2019'].astype(int)\n",
    "possible_countries=pop_df.query(\" `2019` >=1000000\")['Country Code'].values\n",
    "possible_countries=[x.lower() for x in possible_countries]"
   ]
  },
  {
   "cell_type": "code",
   "execution_count": 7,
   "metadata": {},
   "outputs": [],
   "source": [
    "excluded_iso3_codes = [\n",
    "    \"IRL\",  # Ireland\n",
    "    \"SSD\",  # South Sudan\n",
    "    \"SDN\",  # Sudan\n",
    "    \"COG\",  # Republic of the Congo\n",
    "    \"COD\",  # Democratic Republic of the Congo\n",
    "    \"GIN\",  # Guinea\n",
    "    \"GNB\",  # Guinea-Bissau\n",
    "    \"GNQ\",  # Equatorial Guinea\n",
    "    \"PNG\",  # Papua New Guinea\n",
    "    \"XKX\",  # Kosovo (unofficial)\n",
    "    \"MNE\",  # Montenegro\n",
    "    \"SRB\",  # Serbia\n",
    "    \"TLS\"   # Timor-Leste\n",
    "]\n",
    "excluded_iso3_codes=[c.lower() for c in excluded_iso3_codes]"
   ]
  },
  {
   "cell_type": "code",
   "execution_count": 9,
   "metadata": {},
   "outputs": [],
   "source": [
    "possible_iso=list(set(possible_countries)-set(excluded_iso3_codes))"
   ]
  },
  {
   "cell_type": "code",
   "execution_count": 13,
   "metadata": {},
   "outputs": [],
   "source": [
    "df = pd.read_csv(r\"C:\\Users\\Yasaman\\Downloads\\Attention-fractional counting.csv\")\n",
    "df=df[df['country'].isin(possible_iso)]\n",
    "df.rename(columns={'aggregated_value': 'count', 'country': 'Mention_country', 'affiliation_country': 'Aff_country'}, inplace=True)\n",
    "df = df[df['year'].isin(range(2002, 2020))]"
   ]
  },
  {
   "cell_type": "code",
   "execution_count": 16,
   "metadata": {},
   "outputs": [
    {
     "name": "stdout",
     "output_type": "stream",
     "text": [
      "Number of included countries:\n"
     ]
    },
    {
     "data": {
      "text/plain": [
       "148"
      ]
     },
     "execution_count": 16,
     "metadata": {},
     "output_type": "execute_result"
    }
   ],
   "source": [
    "print('Number of included countries:')\n",
    "df.Mention_country.nunique()"
   ]
  }
 ],
 "metadata": {
  "kernelspec": {
   "display_name": "base",
   "language": "python",
   "name": "python3"
  },
  "language_info": {
   "codemirror_mode": {
    "name": "ipython",
    "version": 3
   },
   "file_extension": ".py",
   "mimetype": "text/x-python",
   "name": "python",
   "nbconvert_exporter": "python",
   "pygments_lexer": "ipython3",
   "version": "3.11.10"
  }
 },
 "nbformat": 4,
 "nbformat_minor": 2
}
