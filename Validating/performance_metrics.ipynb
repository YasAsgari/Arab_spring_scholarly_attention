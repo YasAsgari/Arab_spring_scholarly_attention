{
 "cells": [
  {
   "cell_type": "code",
   "execution_count": 18,
   "metadata": {},
   "outputs": [],
   "source": [
    "import pandas as pd\n",
    "import ast"
   ]
  },
  {
   "cell_type": "code",
   "execution_count": 21,
   "metadata": {},
   "outputs": [],
   "source": [
    "df=pd.read_csv(r'C:\\Users\\Yasaman\\Arab_spring_scholarly_attention\\Validating\\final_annotated.csv')"
   ]
  },
  {
   "cell_type": "code",
   "execution_count": 12,
   "metadata": {},
   "outputs": [
    {
     "data": {
      "text/plain": [
       "(1000, 18)"
      ]
     },
     "execution_count": 12,
     "metadata": {},
     "output_type": "execute_result"
    }
   ],
   "source": [
    "df.shape\n"
   ]
  },
  {
   "cell_type": "code",
   "execution_count": 13,
   "metadata": {},
   "outputs": [
    {
     "data": {
      "text/plain": [
       "SampleGroup\n",
       "field_20             520\n",
       "with_mention         280\n",
       "with_mention_arab    200\n",
       "Name: count, dtype: int64"
      ]
     },
     "execution_count": 13,
     "metadata": {},
     "output_type": "execute_result"
    }
   ],
   "source": [
    "df['SampleGroup'].value_counts()"
   ]
  },
  {
   "cell_type": "code",
   "execution_count": 17,
   "metadata": {},
   "outputs": [
    {
     "data": {
      "text/plain": [
       "Field\n",
       "Immunology and Microbiology                     20\n",
       "Biochemistry, Genetics and Molecular Biology    20\n",
       "Pharmacology, Toxicology and Pharmaceutics      20\n",
       "Energy                                          20\n",
       "Economics, Econometrics and Finance             20\n",
       "Social Sciences                                 20\n",
       "Engineering                                     20\n",
       "Neuroscience                                    20\n",
       "Physics and Astronomy                           20\n",
       "Materials Science                               20\n",
       "Nursing                                         20\n",
       "Business, Management and Accounting             20\n",
       "Agricultural and Biological Sciences            20\n",
       "Chemistry                                       20\n",
       "Dentistry                                       20\n",
       "Mathematics                                     20\n",
       "Chemical Engineering                            20\n",
       "Psychology                                      20\n",
       "Health Professions                              20\n",
       "Earth and Planetary Sciences                    20\n",
       "Medicine                                        20\n",
       "Decision Sciences                               20\n",
       "Environmental Science                           20\n",
       "Veterinary                                      20\n",
       "Arts and Humanities                             20\n",
       "Computer Science                                20\n",
       "Name: count, dtype: int64"
      ]
     },
     "execution_count": 17,
     "metadata": {},
     "output_type": "execute_result"
    }
   ],
   "source": [
    "df[df['SampleGroup']=='field_20']['Field'].value_counts()"
   ]
  },
  {
   "cell_type": "code",
   "execution_count": 22,
   "metadata": {},
   "outputs": [],
   "source": [
    "df['union_annotation'] = df['union_annotation'].apply(ast.literal_eval)\n",
    "df['intersection_annotation'] = df['intersection_annotation'].apply(ast.literal_eval)\n",
    "#df['Mentions'] = df['Mentions'].apply(ast.literal_eval)\n"
   ]
  },
  {
   "cell_type": "code",
   "execution_count": null,
   "metadata": {},
   "outputs": [
    {
     "data": {
      "text/plain": [
       "annotator_agreement\n",
       "True     891\n",
       "False    109\n",
       "Name: count, dtype: int64"
      ]
     },
     "execution_count": 25,
     "metadata": {},
     "output_type": "execute_result"
    }
   ],
   "source": [
    "df['annotator_agreement'].value_counts()"
   ]
  }
 ],
 "metadata": {
  "kernelspec": {
   "display_name": "base",
   "language": "python",
   "name": "python3"
  },
  "language_info": {
   "codemirror_mode": {
    "name": "ipython",
    "version": 3
   },
   "file_extension": ".py",
   "mimetype": "text/x-python",
   "name": "python",
   "nbconvert_exporter": "python",
   "pygments_lexer": "ipython3",
   "version": "3.11.10"
  }
 },
 "nbformat": 4,
 "nbformat_minor": 2
}
