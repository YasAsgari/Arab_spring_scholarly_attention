{
 "cells": [
  {
   "cell_type": "code",
   "execution_count": 2,
   "id": "dedb589e-c512-47b1-9dae-f0f88328de38",
   "metadata": {},
   "outputs": [],
   "source": [
    "import pandas as pd\n",
    "import numpy as np\n",
    "from transformers import pipeline\n",
    "import pycountry\n",
    "from transformers import AutoTokenizer, AutoModelForTokenClassification, pipeline\n",
    "import pandas as pd\n",
    "from tqdm import tqdm\n",
    "import pycountry\n"
   ]
  },
  {
   "cell_type": "code",
   "execution_count": 3,
   "id": "9d07c950-46ca-4e9d-a32a-c86c9cb263fb",
   "metadata": {},
   "outputs": [],
   "source": [
    "df=pd.read_csv('Arab-Spring-Paper/Once more/final.csv')\n",
    "df['Text']=df['Title']+' '+df['Abstract']\n",
    "df['union_annotation'] = df['union_annotation'].apply(lambda x: eval(x) if isinstance(x, str) else x)\n",
    "df['intersection_annotation'] = df['intersection_annotation'].apply(lambda x: eval(x) if isinstance(x, str) else x)"
   ]
  },
  {
   "cell_type": "code",
   "execution_count": 8,
   "id": "543e5b6e-05ba-46bd-910b-b45d87ad76d2",
   "metadata": {},
   "outputs": [
    {
     "name": "stderr",
     "output_type": "stream",
     "text": [
      "Some weights of the model checkpoint at dslim/bert-large-NER were not used when initializing BertForTokenClassification: ['bert.pooler.dense.bias', 'bert.pooler.dense.weight']\n",
      "- This IS expected if you are initializing BertForTokenClassification from the checkpoint of a model trained on another task or with another architecture (e.g. initializing a BertForSequenceClassification model from a BertForPreTraining model).\n",
      "- This IS NOT expected if you are initializing BertForTokenClassification from the checkpoint of a model that you expect to be exactly identical (initializing a BertForSequenceClassification model from a BertForSequenceClassification model).\n",
      "100%|████████████████████████████████████████████████████████████████████████████| 1000/1000 [1:17:40<00:00,  4.66s/it]\n"
     ]
    }
   ],
   "source": [
    "\n",
    "# Load tokenizer and model\n",
    "tokenizer = AutoTokenizer.from_pretrained(\"dslim/bert-large-NER\")\n",
    "model = AutoModelForTokenClassification.from_pretrained(\"dslim/bert-large-NER\")\n",
    "\n",
    "nlp = pipeline(\"ner\", model=model, tokenizer=tokenizer)\n",
    "\n",
    "# Function to extract locations and filter by country names\n",
    "def extract_and_filter_locations(text):\n",
    "    ner_results = nlp(text)\n",
    "    locations = [\n",
    "        entity[\"word\"]\n",
    "        for entity in ner_results\n",
    "        if entity[\"entity\"] == \"B-LOC\" or entity[\"entity\"] == \"I-LOC\"\n",
    "    ]\n",
    "\n",
    "    final=coco.convert(list(set(locations)), to='ISO3') \n",
    "    if type(final)==str:\n",
    "        final=[final]\n",
    "\n",
    "    final=[x.lower() for x in final if x!='not found']\n",
    "   \n",
    "    return final\n",
    "\n",
    "# Apply the function to the DataFrame with tqdm\n",
    "tqdm.pandas()  # Initialize tqdm for pandas\n",
    "import logging\n",
    "import country_converter as coco\n",
    "coco_logger = coco.logging.getLogger()\n",
    "coco_logger.setLevel(logging.CRITICAL)\n",
    "df[\"locations\"] = df[\"Text\"].progress_apply(extract_and_filter_locations)\n",
    "\n",
    "# Display the result\n"
   ]
  }
 ],
 "metadata": {
  "kernelspec": {
   "display_name": "Python 3 (ipykernel)",
   "language": "python",
   "name": "python3"
  },
  "language_info": {
   "codemirror_mode": {
    "name": "ipython",
    "version": 3
   },
   "file_extension": ".py",
   "mimetype": "text/x-python",
   "name": "python",
   "nbconvert_exporter": "python",
   "pygments_lexer": "ipython3",
   "version": "3.11.10"
  }
 },
 "nbformat": 4,
 "nbformat_minor": 5
}
