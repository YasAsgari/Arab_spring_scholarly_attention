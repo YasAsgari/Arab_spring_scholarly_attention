{
 "cells": [
  {
   "cell_type": "code",
   "execution_count": 7,
   "id": "6ee74d3a",
   "metadata": {},
   "outputs": [],
   "source": [
    "import random\n",
    "import pandas as pd\n",
    "# Define the group of 6 people\n",
    "people = ['Shadi', 'Yasaman', 'Hongyu', 'Ozgur', 'Mary', 'Juven']\n",
    "\n",
    "# Create a DataFrame for the dataset\n",
    "df = pd.read_excel('samples.xlsx').sample(frac=1)\n",
    "\n",
    "\n",
    "\n",
    "# Function to assign two distinct people for each record\n",
    "def assign_two_people(people):\n",
    "    return random.sample(people, 2)\n",
    "\n",
    "\n",
    "\n",
    "# Apply the function to assign two people to each record\n",
    "df[['Examiner 1', 'Examiner 2']] = df.apply(lambda x: assign_two_people(people), axis=1, result_type=\"expand\")\n",
    "\n"
   ]
  },
  {
   "cell_type": "code",
   "execution_count": null,
   "id": "71735629",
   "metadata": {},
   "outputs": [],
   "source": []
  },
  {
   "cell_type": "code",
   "execution_count": 31,
   "id": "324d4f00",
   "metadata": {},
   "outputs": [
    {
     "name": "stdout",
     "output_type": "stream",
     "text": [
      "Shadi 332\n",
      "Yasaman 343\n",
      "Hongyu 354\n",
      "Ozgur 344\n",
      "Mary 317\n",
      "Juven 310\n"
     ]
    },
    {
     "name": "stderr",
     "output_type": "stream",
     "text": [
      "C:\\Users\\Yasaman\\AppData\\Local\\Temp\\ipykernel_13656\\3526790876.py:4: SettingWithCopyWarning: \n",
      "A value is trying to be set on a copy of a slice from a DataFrame.\n",
      "Try using .loc[row_indexer,col_indexer] = value instead\n",
      "\n",
      "See the caveats in the documentation: https://pandas.pydata.org/pandas-docs/stable/user_guide/indexing.html#returning-a-view-versus-a-copy\n",
      "  filt_df['text']=filt_df['Title']+' '+filt_df['Abstract']\n",
      "C:\\Users\\Yasaman\\AppData\\Local\\Temp\\ipykernel_13656\\3526790876.py:4: SettingWithCopyWarning: \n",
      "A value is trying to be set on a copy of a slice from a DataFrame.\n",
      "Try using .loc[row_indexer,col_indexer] = value instead\n",
      "\n",
      "See the caveats in the documentation: https://pandas.pydata.org/pandas-docs/stable/user_guide/indexing.html#returning-a-view-versus-a-copy\n",
      "  filt_df['text']=filt_df['Title']+' '+filt_df['Abstract']\n",
      "C:\\Users\\Yasaman\\AppData\\Local\\Temp\\ipykernel_13656\\3526790876.py:4: SettingWithCopyWarning: \n",
      "A value is trying to be set on a copy of a slice from a DataFrame.\n",
      "Try using .loc[row_indexer,col_indexer] = value instead\n",
      "\n",
      "See the caveats in the documentation: https://pandas.pydata.org/pandas-docs/stable/user_guide/indexing.html#returning-a-view-versus-a-copy\n",
      "  filt_df['text']=filt_df['Title']+' '+filt_df['Abstract']\n",
      "C:\\Users\\Yasaman\\AppData\\Local\\Temp\\ipykernel_13656\\3526790876.py:4: SettingWithCopyWarning: \n",
      "A value is trying to be set on a copy of a slice from a DataFrame.\n",
      "Try using .loc[row_indexer,col_indexer] = value instead\n",
      "\n",
      "See the caveats in the documentation: https://pandas.pydata.org/pandas-docs/stable/user_guide/indexing.html#returning-a-view-versus-a-copy\n",
      "  filt_df['text']=filt_df['Title']+' '+filt_df['Abstract']\n",
      "C:\\Users\\Yasaman\\AppData\\Local\\Temp\\ipykernel_13656\\3526790876.py:4: SettingWithCopyWarning: \n",
      "A value is trying to be set on a copy of a slice from a DataFrame.\n",
      "Try using .loc[row_indexer,col_indexer] = value instead\n",
      "\n",
      "See the caveats in the documentation: https://pandas.pydata.org/pandas-docs/stable/user_guide/indexing.html#returning-a-view-versus-a-copy\n",
      "  filt_df['text']=filt_df['Title']+' '+filt_df['Abstract']\n",
      "C:\\Users\\Yasaman\\AppData\\Local\\Temp\\ipykernel_13656\\3526790876.py:4: SettingWithCopyWarning: \n",
      "A value is trying to be set on a copy of a slice from a DataFrame.\n",
      "Try using .loc[row_indexer,col_indexer] = value instead\n",
      "\n",
      "See the caveats in the documentation: https://pandas.pydata.org/pandas-docs/stable/user_guide/indexing.html#returning-a-view-versus-a-copy\n",
      "  filt_df['text']=filt_df['Title']+' '+filt_df['Abstract']\n"
     ]
    }
   ],
   "source": [
    "for person in people:\n",
    "    filt_df=df.query(f'`Examiner 1` == \"{person}\" or `Examiner 2` == \"{person}\"')\n",
    "    print(person, len(filt_df))\n",
    "    filt_df['text']=filt_df['Title']+' '+filt_df['Abstract']\n",
    "    filt_df=filt_df.drop(columns=['Abstract','Title','Mentions', 'SampleGroup', 'Field', 'Year', 'Examiner 1', 'Examiner 2'])\n",
    "    filt_df['suggested_mentioned_countries']=''\n",
    "    filt_df.to_csv(f'data//{person}.csv')"
   ]
  }
 ],
 "metadata": {
  "kernelspec": {
   "display_name": "Python 3 (ipykernel)",
   "language": "python",
   "name": "python3"
  },
  "language_info": {
   "codemirror_mode": {
    "name": "ipython",
    "version": 3
   },
   "file_extension": ".py",
   "mimetype": "text/x-python",
   "name": "python",
   "nbconvert_exporter": "python",
   "pygments_lexer": "ipython3",
   "version": "3.11.10"
  }
 },
 "nbformat": 4,
 "nbformat_minor": 5
}
