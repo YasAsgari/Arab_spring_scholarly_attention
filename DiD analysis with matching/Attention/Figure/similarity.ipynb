{
 "cells": [
  {
   "cell_type": "code",
   "execution_count": null,
   "id": "6ecff7de",
   "metadata": {},
   "outputs": [],
   "source": [
    "import pandas as pd\n",
    "import seaborn as sns\n",
    "from matplotlib import pyplot as plt\n",
    "\n",
    "import numpy as np\n",
    "import matplotlib as mpl\n",
    "\n",
    "\n",
    "mpl.rcParams.update({\n",
    "    'font.family':          'sans-serif',\n",
    "    'font.sans-serif':      ['Arial'],\n",
    "    'mathtext.fontset':     'custom',\n",
    "    'mathtext.rm':          'Arial',\n",
    "    'mathtext.it':          'Arial:italic',\n",
    "    'mathtext.bf':          'Arial:bold',\n",
    "    'mathtext.cal':         'Arial',        # for calligraphic if you like\n",
    "})"
   ]
  },
  {
   "cell_type": "code",
   "execution_count": 6,
   "id": "118e50b3",
   "metadata": {},
   "outputs": [],
   "source": [
    "df_total=pd.read_csv(r'C:\\Users\\Yasaman\\Arab Spring Paper\\Arab Spring Code\\DiD analysis with matching\\Attention\\Total attention\\matched_data.csv')\n",
    "df_domestic=pd.read_csv(r'C:\\Users\\Yasaman\\Arab Spring Paper\\Arab Spring Code\\DiD analysis with matching\\Attention\\Domestic attention\\matched_data.csv')\n",
    "df_foreign=pd.read_csv(r'C:\\Users\\Yasaman\\Arab Spring Paper\\Arab Spring Code\\DiD analysis with matching\\Attention\\Foreign attention\\matched_data.csv')"
   ]
  },
  {
   "cell_type": "code",
   "execution_count": 17,
   "id": "b613d803",
   "metadata": {},
   "outputs": [
    {
     "data": {
      "text/plain": [
       "Index(['id', 'Mention_country', 'treated', 'log_count', 'log_gdp',\n",
       "       'log_population', 'log_Rpop', 'pretrend_slope', 'log_count_bin',\n",
       "       'log_gdp_bin', 'log_population_bin', 'log_Rpop_bin', 'stratum',\n",
       "       'n_control', 'n_treated', 'cem_w'],\n",
       "      dtype='object')"
      ]
     },
     "execution_count": 17,
     "metadata": {},
     "output_type": "execute_result"
    }
   ],
   "source": [
    "df_total.columns"
   ]
  },
  {
   "cell_type": "code",
   "execution_count": null,
   "id": "306f6c13",
   "metadata": {},
   "outputs": [],
   "source": [
    "fig, ax=plt.subplots(nrows=4, ncols=3, figsize=(15,15), dpi=100)\n",
    "\n",
    "sns.histplot(data=df_total, x='log_count', hue='treated', common_norm=False, ax=ax[0][0],palette={0: \"grey\", 1: \"r\"}, bins=np.arange(2, 8, 0.5))\n",
    "sns.histplot(data=df_domestic, x='log_count', hue='treated', common_norm=False, ax=ax[0][1],palette={0: \"grey\", 1: \"r\"}, bins=np.arange(2, 8, 0.5))\n",
    "sns.histplot(data=df_foreign, x='log_count', hue='treated', common_norm=False, ax=ax[0][2],palette={0: \"grey\", 1: \"r\"}, bins=np.arange(2, 8, 0.5))\n",
    "\n",
    "\n",
    "\n",
    "sns.histplot(data=df_total, x='log_gdp', hue='treated', common_norm=False, ax=ax[1][0],palette={0: \"grey\", 1: \"r\"}, bins=np.arange(5,11, 0.5))\n",
    "sns.histplot(data=df_domestic, x='log_gdp', hue='treated', common_norm=False, ax=ax[1][1],palette={0: \"grey\", 1: \"r\"}, bins=np.arange(5,11, 0.5))\n",
    "sns.histplot(data=df_foreign, x='log_gdp', hue='treated', common_norm=False, ax=ax[1][2],palette={0: \"grey\", 1: \"r\"}, bins=np.arange(5,11, 0.5))\n",
    "\n",
    "sns.histplot(data=df_total, x='log_population', hue='treated', common_norm=False, ax=ax[2][0],palette={0: \"grey\", 1: \"r\"}, bins=np.arange(13,19, 0.5))\n",
    "sns.histplot(data=df_foreign, x='log_population', hue='treated', common_norm=False, ax=ax[2][2],palette={0: \"grey\", 1: \"r\"}, bins=np.arange(13,19, 0.5))\n",
    "\n",
    "\n",
    "\n",
    "sns.histplot(data=df_total, x='log_Rpop', hue='treated', common_norm=False, ax=ax[3][0],palette={0: \"grey\", 1: \"r\"}, bins=np.arange(4,10, 0.5))\n",
    "sns.histplot(data=df_domestic, x='log_Rpop', hue='treated', common_norm=False, ax=ax[3][1],palette={0: \"grey\", 1: \"r\"},  bins=np.arange(4,10, 0.5))\n",
    "\n",
    "\n",
    "ax[0][0].set_title('CEM control group (1)', fontsize=18)\n",
    "ax[0][1].set_title('CEM control group (2)', fontsize=18)\n",
    "ax[0][2].set_title('CEM control group (3)', fontsize=18)\n",
    "\n",
    "xlabels=[r'$\\overline{Log(Attention+1)}', r'$\\overline{Log(GDP)}$', r'$\\overline{Log(Population)}$', r'$\\overline{Log(Researchers\\;Population)}$']\n",
    "for i in range(4):\n",
    "    for j in range(3):\n",
    "        ax[i][j].set_xlabel(xlabels[i], fontsize=14)\n",
    "        ax[i][j].set_ylabel('Count', fontsize=14)\n",
    "        ax[i][j].legend( labels=['Target','Control'], fontsize=12, title_fontsize=12, frameon=False, loc='upper left')\n",
    "        #ax[i][j].set_ylim(0, 0.9)\n",
    "\n",
    "ax[0][0].text(-0.15, 1.15, 'a', transform=ax[0][0].transAxes, verticalalignment='top', fontsize=25,fontweight='bold')\n",
    "ax[0][1].text(-0.15, 1.15, 'b', transform=ax[0][1].transAxes, verticalalignment='top', fontsize=25,fontweight='bold')\n",
    "ax[0][2].text(-0.15, 1.15, 'c', transform=ax[0][2].transAxes, verticalalignment='top', fontsize=25,fontweight='bold')\n",
    "\n",
    "\n",
    "ax[0][0].set_xlabel(r'$\\overline{Log(Total\\;Attention+1)}$', fontsize=14)\n",
    "ax[0][1].set_xlabel(r'$\\overline{Log(Domestic\\;Attention+1)}$', fontsize=14)\n",
    "ax[0][2].set_xlabel(r'$\\overline{Log(Foreign\\;Attention+1)}$', fontsize=14)\n",
    "\n",
    "\n",
    "ax[0][0].set_ylim(0, 14)\n",
    "ax[0][1].set_ylim(0, 14)\n",
    "ax[0][2].set_ylim(0, 14)\n",
    "\n",
    "\n",
    "\n",
    "\n",
    "ax[1][0].set_ylim(0, 14)\n",
    "ax[1][1].set_ylim(0, 14)\n",
    "ax[1][2].set_ylim(0, 14)\n",
    "\n",
    "\n",
    "ax[2][0].set_ylim(0, 11)\n",
    "ax[2][2].set_ylim(0, 11)\n",
    "\n",
    "\n",
    "\n",
    "ax[3][0].set_ylim(0, 10)\n",
    "ax[3][1].set_ylim(0, 10)\n",
    "# Turn off empty axes and write \"Not applicable\"\n",
    "ax[2][1].axis('off')\n",
    "ax[2][1].text(0.45, 0.5, 'Not applicable', ha='center', va='center', \n",
    "              fontsize=20, fontstyle='italic', transform=ax[2][1].transAxes)\n",
    "\n",
    "ax[3][2].axis('off')\n",
    "ax[3][2].text(0.45, 0.5, 'Not applicable', ha='center', va='center', \n",
    "              fontsize=20, fontstyle='italic', transform=ax[3][2].transAxes)\n",
    "\n",
    "plt.tight_layout()\n",
    "# After creating subplots and before plt.tight_layout()\n",
    "fig.subplots_adjust(wspace=0.25)  # some spacing between subplots\n",
    "\n",
    "# Add vertical separator lines between columns\n",
    "for x in [1/3, 2/3]:   # normalized figure coordinates (since you have 3 columns)\n",
    "    fig.add_artist(plt.Line2D(\n",
    "        [x, x], [0, 1], color=\"black\", linewidth=1.5, transform=fig.transFigure,linestyle=\"--\"\n",
    "    ))\n",
    "\n",
    "\n",
    "fig.savefig(r'Covariate_balance_check.pdf', bbox_inches='tight')"
   ]
  }
 ],
 "metadata": {
  "kernelspec": {
   "display_name": "base",
   "language": "python",
   "name": "python3"
  },
  "language_info": {
   "codemirror_mode": {
    "name": "ipython",
    "version": 3
   },
   "file_extension": ".py",
   "mimetype": "text/x-python",
   "name": "python",
   "nbconvert_exporter": "python",
   "pygments_lexer": "ipython3",
   "version": "3.11.10"
  }
 },
 "nbformat": 4,
 "nbformat_minor": 5
}
