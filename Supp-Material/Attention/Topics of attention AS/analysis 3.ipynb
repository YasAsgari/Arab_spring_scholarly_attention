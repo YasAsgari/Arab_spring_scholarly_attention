{
 "cells": [
  {
   "cell_type": "code",
   "execution_count": null,
   "id": "3f5898d8",
   "metadata": {},
   "outputs": [],
   "source": []
  },
  {
   "cell_type": "code",
   "execution_count": 1,
   "id": "8f340ed1",
   "metadata": {},
   "outputs": [],
   "source": [
    "import pandas as pd\n"
   ]
  },
  {
   "cell_type": "code",
   "execution_count": 4,
   "id": "fcfa73f0",
   "metadata": {},
   "outputs": [],
   "source": [
    "topics=pd.read_csv(r'~\\Arab Spring Paper\\Arab Spring Code\\Supp-Material\\Attention\\Topics of attention AS\\one_model_topics.csv')\n",
    "df=pd.read_csv(r'~\\Arab Spring Paper\\Arab Spring Code\\Supp-Material\\Attention\\Topics of attention AS\\one_model_data_with_topics.csv')"
   ]
  },
  {
   "cell_type": "code",
   "execution_count": 38,
   "id": "4dd883a1",
   "metadata": {},
   "outputs": [],
   "source": [
    "Topic_name = {\n",
    "    -1: \"Arab Spring\",\n",
    "    0:'Social Media',\n",
    "    1: \"Egypt\",\n",
    "    2: \"Libya\",\n",
    "    3:'Syria',\n",
    "    4: \"Oil & Financial Markets\",\n",
    "    5:'Morocco',\n",
    "    6:'Turkey’s Regional Role',\n",
    "    7: \"Tunisia\", \n",
    "    8: \"Arab Spring\",\n",
    "    9: \"Kuwait\",\n",
    "    10: \"Gulf monarchies: Saudi\",\n",
    "    11:'EU Policy & Migration',\n",
    "    12: \"Women’s Rights\", \n",
    "    13: \"Refugees\",\n",
    "    14: \"Women’s Rights\", \n",
    "    15: 'Islamist parties',\n",
    "    16: 'Yemen',\n",
    "    17: 'Jordan',\n",
    "    18: 'Tourism', \n",
    "    19: 'Russia & Iran', \n",
    "    20: 'Islamist parties',\n",
    "    21: 'Water Scarcity, Climate Change, and Resource Managemen',\n",
    "    22: 'Military',\n",
    "    23: 'Employment, Education, and Economy'\n",
    "}\n"
   ]
  },
  {
   "cell_type": "code",
   "execution_count": 40,
   "id": "a7bd54e2",
   "metadata": {},
   "outputs": [],
   "source": [
    "df['Topic']=df['Topic'].map(Topic_name)"
   ]
  },
  {
   "cell_type": "code",
   "execution_count": 45,
   "id": "d174a072",
   "metadata": {},
   "outputs": [
    {
     "data": {
      "text/plain": [
       "(Topic\n",
       " Arab Spring                                               256\n",
       " Egypt                                                     171\n",
       " Social Media                                              143\n",
       " Oil & Financial Markets                                    44\n",
       " Women’s Rights                                             43\n",
       " Tunisia                                                    38\n",
       " Islamist parties                                           36\n",
       " EU Policy & Migration                                      22\n",
       " Turkey’s Regional Role                                     17\n",
       " Morocco                                                    13\n",
       " Libya                                                      13\n",
       " Tourism                                                    11\n",
       " Military                                                   10\n",
       " Employment, Education, and Economy                         10\n",
       " Gulf monarchies: Saudi                                      7\n",
       " Refugees                                                    5\n",
       " Kuwait                                                      4\n",
       " Water Scarcity, Climate Change, and Resource Managemen      3\n",
       " Jordan                                                      3\n",
       " Syria                                                       3\n",
       " Russia & Iran                                               3\n",
       " Yemen                                                       1\n",
       " Name: count, dtype: int64,\n",
       " Topic\n",
       " Arab Spring                                               163\n",
       " Libya                                                      85\n",
       " Syria                                                      66\n",
       " Social Media                                               60\n",
       " Turkey’s Regional Role                                     41\n",
       " Yemen                                                      21\n",
       " Refugees                                                   18\n",
       " Russia & Iran                                              17\n",
       " Oil & Financial Markets                                    15\n",
       " Gulf monarchies: Saudi                                     13\n",
       " Military                                                   11\n",
       " Water Scarcity, Climate Change, and Resource Managemen      9\n",
       " EU Policy & Migration                                       8\n",
       " Tunisia                                                     7\n",
       " Egypt                                                       6\n",
       " Jordan                                                      6\n",
       " Islamist parties                                            4\n",
       " Kuwait                                                      3\n",
       " Tourism                                                     3\n",
       " Women’s Rights                                              3\n",
       " Employment, Education, and Economy                          1\n",
       " Name: count, dtype: int64,\n",
       " Topic\n",
       " Arab Spring                                               113\n",
       " Morocco                                                    40\n",
       " Social Media                                               36\n",
       " Kuwait                                                     34\n",
       " Gulf monarchies: Saudi                                     23\n",
       " Jordan                                                     21\n",
       " Oil & Financial Markets                                    18\n",
       " EU Policy & Migration                                      11\n",
       " Refugees                                                    9\n",
       " Women’s Rights                                              9\n",
       " Tourism                                                     8\n",
       " Tunisia                                                     7\n",
       " Military                                                    6\n",
       " Islamist parties                                            5\n",
       " Egypt                                                       4\n",
       " Syria                                                       4\n",
       " Water Scarcity, Climate Change, and Resource Managemen      3\n",
       " Russia & Iran                                               2\n",
       " Employment, Education, and Economy                          2\n",
       " Libya                                                       1\n",
       " Name: count, dtype: int64)"
      ]
     },
     "execution_count": 45,
     "metadata": {},
     "output_type": "execute_result"
    }
   ],
   "source": [
    "df[df['GO']].Topic.value_counts(), df[df['CW']].Topic.value_counts(), df[df['GC']].Topic.value_counts()"
   ]
  },
  {
   "cell_type": "code",
   "execution_count": 36,
   "id": "aeb6e620",
   "metadata": {},
   "outputs": [
    {
     "data": {
      "text/plain": [
       "array(['employment, program, tunisia, job, economic',\n",
       "       'economic, inequality socioeconomic, inequality socioeconomic exclusion, socioeconomic exclusion, institutional',\n",
       "       'performance, organizational commitment, hpws, shrm, black box',\n",
       "       'human capital, life satisfaction, capital, satisfaction, life',\n",
       "       'inequality, labor, welfare, higher education, education',\n",
       "       'job, school, transition, schooltowork transition, schooltowork'],\n",
       "      dtype=object)"
      ]
     },
     "execution_count": 36,
     "metadata": {},
     "output_type": "execute_result"
    }
   ],
   "source": [
    "topics[topics['Topic']==23].Words.values"
   ]
  },
  {
   "cell_type": "code",
   "execution_count": 47,
   "id": "ce8613df",
   "metadata": {},
   "outputs": [],
   "source": [
    "df.to_csv(r'~\\Arab Spring Paper\\Arab Spring Code\\Supp-Material\\Attention\\Topics of attention AS\\final_analysis_topics.csv', index=False)"
   ]
  }
 ],
 "metadata": {
  "kernelspec": {
   "display_name": "base",
   "language": "python",
   "name": "python3"
  },
  "language_info": {
   "codemirror_mode": {
    "name": "ipython",
    "version": 3
   },
   "file_extension": ".py",
   "mimetype": "text/x-python",
   "name": "python",
   "nbconvert_exporter": "python",
   "pygments_lexer": "ipython3",
   "version": "3.11.10"
  }
 },
 "nbformat": 4,
 "nbformat_minor": 5
}
