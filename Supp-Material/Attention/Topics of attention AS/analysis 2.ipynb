{
 "cells": [
  {
   "cell_type": "code",
   "execution_count": null,
   "id": "bb78fa56",
   "metadata": {},
   "outputs": [],
   "source": [
    "import pandas as pd\n",
    "import numpy as np\n",
    "import matplotlib.pyplot as plt\n",
    "import seaborn as sns\n",
    "import matplotlib as mpl\n",
    "mpl.rcParams.update({\n",
    "    'font.family':          'sans-serif',\n",
    "    'font.sans-serif':      ['Arial'],\n",
    "    'mathtext.fontset':     'custom',\n",
    "    'mathtext.rm':          'Arial',\n",
    "    'mathtext.it':          'Arial:italic',\n",
    "    'mathtext.bf':          'Arial:bold',\n",
    "    'mathtext.cal':         'Arial',        # for calligraphic if you like\n",
    "})"
   ]
  },
  {
   "cell_type": "code",
   "execution_count": 3,
   "id": "552fcf7a",
   "metadata": {},
   "outputs": [],
   "source": [
    "dfs=[pd.read_csv(r'~\\Arab Spring Paper\\Arab Spring Code\\Supp-Material\\Attention\\Topics of attention AS\\topics_over_time_%s.csv'% g ) for g in ['GO', 'CW', 'GC']]"
   ]
  },
  {
   "cell_type": "code",
   "execution_count": 35,
   "id": "7a558588",
   "metadata": {},
   "outputs": [],
   "source": [
    "GO_merge_map = {\n",
    "    -1: \"Arab Spring\",\n",
    "    0:'Egypt/Tunisia',\n",
    "    1: \"Social Media\",\n",
    "    2: \"Arab Spring\",\n",
    "    3:'Egypt/Tunisia',\n",
    "    4: \"Oil & Financial Markets\",\n",
    "    5:'EU Policy & Migration',\n",
    "    6: \"Arab Spring\",\n",
    "    7: \"Women’s Rights\", \n",
    "    8:'Turkey’s Regional Role',\n",
    "    9: \"Women’s Rights\", \n",
    "    10: 'Inequality, Employment',\n",
    "    11: 'Egypt/Tunisia',\n",
    "}\n",
    "\n",
    "CW_merge_map={\n",
    "    -1: \"Arab Spring\",\n",
    "    0:'Syria/Libya/Yemen',\n",
    "    1:'Syria/Libya/Yemen',\n",
    "    2:'Syria/Libya/Yemen',\n",
    "    3: \"Social Media\",\n",
    "    4:'Turkey’s Regional Role',\n",
    "    5: \"Syria/Libya/Yemen\",\n",
    "    6: 'Refugees',\n",
    "    7:'EU Security Agenda, & Migration',\n",
    "}\n",
    "\n",
    "\n",
    "GC_merge_map={\n",
    "    -1: \"Arab Spring\",\n",
    "    0:'Morocco',\n",
    "    1: \"Social Media\",\n",
    "    2: 'Gulf Monarchies',\n",
    "    3: \"Palestinian refugees in Jordan\",\n",
    "    4:'Oil & Financial Markets',\n",
    "    5:'Kuwait',\n",
    "\n",
    "\n",
    "}\n",
    "Maps=[GO_merge_map, CW_merge_map, GC_merge_map]\n",
    "\n",
    "\n",
    "for data, map, group in zip(dfs, Maps, ['Government Overthrow','Civil War', 'Governmental Changes']):\n",
    "    data[\"MergedTopic\"] = data[\"Topic\"].map(map)"
   ]
  },
  {
   "cell_type": "code",
   "execution_count": 36,
   "id": "b82310d1",
   "metadata": {},
   "outputs": [
    {
     "data": {
      "text/plain": [
       "(MergedTopic\n",
       " Arab Spring                27\n",
       " Egypt/Tunisia              23\n",
       " Women’s Rights             17\n",
       " Social Media                9\n",
       " Oil & Financial Markets     9\n",
       " EU Policy & Migration       9\n",
       " Inequality, Employment      8\n",
       " Turkey’s Regional Role      7\n",
       " Name: count, dtype: int64,\n",
       " MergedTopic\n",
       " Syria/Libya/Yemen                  36\n",
       " Arab Spring                         9\n",
       " Social Media                        9\n",
       " Turkey’s Regional Role              9\n",
       " Refugees                            7\n",
       " EU Security Agenda, & Migration     6\n",
       " Name: count, dtype: int64,\n",
       " MergedTopic\n",
       " Arab Spring                       9\n",
       " Morocco                           9\n",
       " Social Media                      9\n",
       " Gulf Monarchies                   9\n",
       " Oil & Financial Markets           8\n",
       " Palestinian refugees in Jordan    8\n",
       " Kuwait                            7\n",
       " Name: count, dtype: int64)"
      ]
     },
     "execution_count": 36,
     "metadata": {},
     "output_type": "execute_result"
    }
   ],
   "source": [
    "dfs[0].MergedTopic.value_counts(), dfs[1].MergedTopic.value_counts(), dfs[2].MergedTopic.value_counts()\n"
   ]
  },
  {
   "cell_type": "code",
   "execution_count": 33,
   "id": "d3f9cc9f",
   "metadata": {},
   "outputs": [
    {
     "data": {
      "text/plain": [
       "(               MergedTopic  Frequency\n",
       " 0              Arab Spring        304\n",
       " 2            Egypt/Tunisia        253\n",
       " 5             Social Media        146\n",
       " 4  Oil & Financial Markets         50\n",
       " 7           Women’s Rights         41\n",
       " 1    EU Policy & Migration         27\n",
       " 6   Turkey’s Regional Role         20\n",
       " 3   Inequality, Employment         15,\n",
       "                        MergedTopic  Frequency\n",
       " 4                Syria/Libya/Yemen        313\n",
       " 0                      Arab Spring        132\n",
       " 3                     Social Media         50\n",
       " 5           Turkey’s Regional Role         41\n",
       " 2                         Refugees         14\n",
       " 1  EU Security Agenda, & Migration         10,\n",
       "                       MergedTopic  Frequency\n",
       " 3                         Morocco        127\n",
       " 0                     Arab Spring        103\n",
       " 6                    Social Media         48\n",
       " 1                 Gulf Monarchies         29\n",
       " 5  Palestinian refugees in Jordan         24\n",
       " 4         Oil & Financial Markets         14\n",
       " 2                          Kuwait         11)"
      ]
     },
     "execution_count": 33,
     "metadata": {},
     "output_type": "execute_result"
    }
   ],
   "source": [
    "dfs[0].groupby('MergedTopic')['Frequency'].sum().reset_index().sort_values('Frequency', ascending=False), dfs[1].groupby('MergedTopic')['Frequency'].sum().reset_index().sort_values('Frequency', ascending=False), dfs[2].groupby('MergedTopic')['Frequency'].sum().reset_index().sort_values('Frequency', ascending=False)"
   ]
  }
 ],
 "metadata": {
  "kernelspec": {
   "display_name": "base",
   "language": "python",
   "name": "python3"
  },
  "language_info": {
   "codemirror_mode": {
    "name": "ipython",
    "version": 3
   },
   "file_extension": ".py",
   "mimetype": "text/x-python",
   "name": "python",
   "nbconvert_exporter": "python",
   "pygments_lexer": "ipython3",
   "version": "3.11.10"
  }
 },
 "nbformat": 4,
 "nbformat_minor": 5
}
