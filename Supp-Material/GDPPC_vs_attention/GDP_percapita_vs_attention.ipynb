{
 "cells": [
  {
   "cell_type": "code",
   "execution_count": 1,
   "metadata": {},
   "outputs": [],
   "source": [
    "import numpy as np\n",
    "import pandas as pd\n",
    "from matplotlib import pyplot as plt\n",
    "import seaborn as sns\n",
    "from scipy.stats import pearsonr\n",
    "from adjustText import adjust_text\n",
    "from scipy import stats\n",
    "from mpl_toolkits.axes_grid1.inset_locator import mark_inset"
   ]
  },
  {
   "cell_type": "code",
   "execution_count": 2,
   "metadata": {},
   "outputs": [],
   "source": [
    "pop_df=pd.read_csv(r'C:\\Users\\Yasaman\\Downloads\\World_bank_population.csv',skiprows=3)\n",
    "pop_df=pop_df[['Country Code','2003','2018']].dropna()\n",
    "pop_df['2018']=pop_df['2018'].astype(int)\n",
    "possible_countries=pop_df.query(\" `2018` >=1000000\")['Country Code'].values\n",
    "possible_countries=[x.lower() for x in possible_countries]"
   ]
  },
  {
   "cell_type": "code",
   "execution_count": 3,
   "metadata": {},
   "outputs": [],
   "source": [
    "\n",
    "df=pd.read_csv(r\"C:\\Users\\Yasaman\\Downloads\\Attention-fractional counting.csv\")\n",
    "df=df.rename(columns={'year':'Year', 'aggregated_value':'count', 'country':'Mention_country', 'affiliation_country':'Aff_country'})\n",
    "Country_list={'Egypt':'EGY', 'Tunisia':'TUN','Libya':'LBY','Syria':'SYR','Yemen':'YEM','Bahrain':'BHR','Jordan':'JOR','Kuwait':'KWT','Morocco':'MAR','Oman':'OMN'}\n",
    "rev_Country_list={Country_list[key]: key for key in Country_list}\n",
    "abbr=[country.lower() for country in Country_list.values()]\n",
    "country_codes=pd.read_csv(r\"C:\\Users\\Yasaman\\Downloads\\iso3.csv\")\n",
    "country_codes['iso3']=[c.lower() for c in country_codes['iso3']]\n",
    "physical_sciences=[ 'MATH', 'ENGI', 'PHYS', 'COMP', \"MUL\"]\n",
    "df=df[~df['subjarea'].isin(physical_sciences)]\n",
    "map={country_codes.iloc[c]['iso3']: country_codes.iloc[c]['name'] for c in range(len(country_codes))}\n",
    "map['irn']='Iran'\n",
    "map['usa']='USA'\n",
    "map['gbr']='UK'\n",
    "filtered_df=df[(df['Mention_country'].isin(abbr))&(df['Mention_country']!=df['Aff_country'])]\n",
    "\n",
    "before_df=filtered_df[filtered_df['Year'].isin(np.arange(2003, 2011, 1))].groupby(by=['Mention_country','Aff_country']).sum().reset_index()[['count','Mention_country','Aff_country']].rename(columns={'count':'count_before'})\n",
    "after_df=filtered_df[filtered_df['Year'].isin(np.arange(2011, 2019, 1))].groupby(by=['Mention_country','Aff_country']).sum().reset_index()[['count','Mention_country','Aff_country']].rename(columns={'count':'count_after'})\n",
    "compare_df=before_df.merge(after_df, how='outer', on=['Mention_country','Aff_country']).fillna(0)\n",
    "compare_df['count_after']/=8\n",
    "compare_df['count_before']/=8\n",
    "compare_df=compare_df.groupby(['Aff_country'])[['count_before', 'count_after']].sum().reset_index()\n",
    "compare_df['difference']=compare_df['count_after']-compare_df['count_before']\n",
    "compare_df=compare_df.sort_values('difference', ascending=False)\n",
    "\n"
   ]
  },
  {
   "cell_type": "code",
   "execution_count": null,
   "metadata": {},
   "outputs": [],
   "source": [
    "\n",
    "\n",
    "\n",
    "country_df=pd.read_csv(r\"C:\\Users\\Yasaman\\Downloads\\arabspring_number_of_papers_per_year_per_descipline_per_country.csv\")\n",
    "country_df=country_df.groupby(['affiliation_country'])['aggregated_value'].sum().reset_index()\n",
    "country_df=country_df.merge(compare_df, left_on='affiliation_country', right_on='Aff_country', how='left').dropna(subset=['Aff_country'])\n",
    "country_df=country_df[country_df['affiliation_country'].isin(possible_countries)]\n",
    "\n",
    "\n",
    "\n",
    "country_codes=pd.read_csv(r\"C:\\Users\\Yasaman\\Downloads\\iso3.csv\")\n",
    "country_codes['iso3']=[c.lower() for c in country_codes['iso3']]\n",
    "map={country_codes.iloc[c]['iso3']: country_codes.iloc[c]['name'] for c in range(len(country_codes))}\n",
    "map['irn']='Iran'\n",
    "map['usa']='USA'\n",
    "map['gbr']='UK'\n",
    "map['rus']='Russia'\n",
    "map['syr']='Syria'\n",
    "map['are']='UAE'\n",
    "plot_a_df=country_df.reset_index(drop=True)\n"
   ]
  }
 ],
 "metadata": {
  "kernelspec": {
   "display_name": "base",
   "language": "python",
   "name": "python3"
  },
  "language_info": {
   "codemirror_mode": {
    "name": "ipython",
    "version": 3
   },
   "file_extension": ".py",
   "mimetype": "text/x-python",
   "name": "python",
   "nbconvert_exporter": "python",
   "pygments_lexer": "ipython3",
   "version": "3.11.10"
  }
 },
 "nbformat": 4,
 "nbformat_minor": 2
}
