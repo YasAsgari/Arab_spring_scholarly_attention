{
 "cells": [
  {
   "cell_type": "code",
   "execution_count": 34,
   "metadata": {},
   "outputs": [],
   "source": [
    "import pandas as pd\n",
    "import ast\n"
   ]
  },
  {
   "cell_type": "code",
   "execution_count": 56,
   "metadata": {},
   "outputs": [],
   "source": [
    "df1=pd.read_csv(r'C:\\Users\\Yasaman\\Arab_spring_scholarly_attention\\Validation sampling\\res_new.csv')\n",
    "df1=df1.rename(columns={'code_hongyu':'annot_by_hongyu', 'code_yas':'annot_by_yasaman'}).drop(columns=['Annotated_By_Hongyu', 'Annotated_By_Yas'])\n",
    "df1['annotator_1']=df1['annot_by_hongyu']\n",
    "df1['annotator_2']=df1['annot_by_yasaman']\n",
    "df1['annotator_1'] = df1['annotator_1'].apply(ast.literal_eval)\n",
    "df1['annotator_2'] = df1['annotator_2'].apply(ast.literal_eval)\n",
    "df1['intersection_annotation'] = df1.apply(lambda row: list(set(row['annotator_1']).intersection(set(row['annotator_2']))), axis=1)\n",
    "df1['union_annotation'] = df1.apply(lambda row: list(set(row['annotator_1']).union(set(row['annotator_2']))), axis=1)\n",
    "df1['annotator_agreement']=df1['annotator_1']==df1['annotator_2']"
   ]
  },
  {
   "cell_type": "code",
   "execution_count": 39,
   "metadata": {},
   "outputs": [],
   "source": [
    "df2=pd.read_csv(r'C:\\Users\\Yasaman\\Arab_spring_scholarly_attention\\Validation sampling\\final.csv')\n",
    "df2['union_annotation'] = df2['union_annotation'].apply(ast.literal_eval)\n",
    "df2['intersection_annotation'] = df2['intersection_annotation'].apply(ast.literal_eval)\n",
    "df2['Mentions'] = df2['Mentions'].apply(ast.literal_eval)\n"
   ]
  },
  {
   "cell_type": "code",
   "execution_count": 47,
   "metadata": {},
   "outputs": [
    {
     "data": {
      "text/html": [
       "<div>\n",
       "<style scoped>\n",
       "    .dataframe tbody tr th:only-of-type {\n",
       "        vertical-align: middle;\n",
       "    }\n",
       "\n",
       "    .dataframe tbody tr th {\n",
       "        vertical-align: top;\n",
       "    }\n",
       "\n",
       "    .dataframe thead th {\n",
       "        text-align: right;\n",
       "    }\n",
       "</style>\n",
       "<table border=\"1\" class=\"dataframe\">\n",
       "  <thead>\n",
       "    <tr style=\"text-align: right;\">\n",
       "      <th></th>\n",
       "      <th>Mentions</th>\n",
       "      <th>count</th>\n",
       "    </tr>\n",
       "  </thead>\n",
       "  <tbody>\n",
       "    <tr>\n",
       "      <th>0</th>\n",
       "      <td>egy</td>\n",
       "      <td>64</td>\n",
       "    </tr>\n",
       "    <tr>\n",
       "      <th>1</th>\n",
       "      <td>jor</td>\n",
       "      <td>35</td>\n",
       "    </tr>\n",
       "    <tr>\n",
       "      <th>2</th>\n",
       "      <td>tun</td>\n",
       "      <td>29</td>\n",
       "    </tr>\n",
       "    <tr>\n",
       "      <th>3</th>\n",
       "      <td>mar</td>\n",
       "      <td>18</td>\n",
       "    </tr>\n",
       "    <tr>\n",
       "      <th>4</th>\n",
       "      <td>syr</td>\n",
       "      <td>18</td>\n",
       "    </tr>\n",
       "    <tr>\n",
       "      <th>...</th>\n",
       "      <td>...</td>\n",
       "      <td>...</td>\n",
       "    </tr>\n",
       "    <tr>\n",
       "      <th>69</th>\n",
       "      <td>mda</td>\n",
       "      <td>1</td>\n",
       "    </tr>\n",
       "    <tr>\n",
       "      <th>70</th>\n",
       "      <td>pol</td>\n",
       "      <td>1</td>\n",
       "    </tr>\n",
       "    <tr>\n",
       "      <th>71</th>\n",
       "      <td>lka</td>\n",
       "      <td>1</td>\n",
       "    </tr>\n",
       "    <tr>\n",
       "      <th>72</th>\n",
       "      <td>lva</td>\n",
       "      <td>1</td>\n",
       "    </tr>\n",
       "    <tr>\n",
       "      <th>73</th>\n",
       "      <td>hrv</td>\n",
       "      <td>1</td>\n",
       "    </tr>\n",
       "  </tbody>\n",
       "</table>\n",
       "<p>74 rows × 2 columns</p>\n",
       "</div>"
      ],
      "text/plain": [
       "   Mentions  count\n",
       "0       egy     64\n",
       "1       jor     35\n",
       "2       tun     29\n",
       "3       mar     18\n",
       "4       syr     18\n",
       "..      ...    ...\n",
       "69      mda      1\n",
       "70      pol      1\n",
       "71      lka      1\n",
       "72      lva      1\n",
       "73      hrv      1\n",
       "\n",
       "[74 rows x 2 columns]"
      ]
     },
     "execution_count": 47,
     "metadata": {},
     "output_type": "execute_result"
    }
   ],
   "source": [
    "df2[df2['SampleGroup']=='with_mention_arab']['Mentions'].explode().value_counts().reset_index()"
   ]
  },
  {
   "cell_type": "code",
   "execution_count": 120,
   "metadata": {},
   "outputs": [
    {
     "name": "stderr",
     "output_type": "stream",
     "text": [
      "C:\\Users\\Yasaman\\AppData\\Local\\Temp\\ipykernel_24012\\129329042.py:5: UserWarning: Boolean Series key will be reindexed to match DataFrame index.\n",
      "  to_remove_egy=res_df[res_df['SampleGroup']=='with_mention_arab'][res_df['Mentions'].apply(lambda x:x==['egy'])].index[4:]\n",
      "C:\\Users\\Yasaman\\AppData\\Local\\Temp\\ipykernel_24012\\129329042.py:8: UserWarning: Boolean Series key will be reindexed to match DataFrame index.\n",
      "  to_remove_tun=res_df[res_df['SampleGroup']=='with_mention_arab'][res_df['Mentions'].apply(lambda x:x==['tun'])].index[:7]\n"
     ]
    }
   ],
   "source": [
    "res_df=pd.concat([df1,df2]).drop(columns=['Unnamed: 0']).reset_index(drop=True)\n",
    "res_df[res_df['SampleGroup']=='with_mention_arab']['union_annotation'].explode().value_counts().reset_index()[:30]\n",
    "to_remove_jordan=[819, 830, 840, 865, 870]\n",
    "res_df.drop(index=to_remove_jordan, inplace=True)\n",
    "to_remove_egy=res_df[res_df['SampleGroup']=='with_mention_arab'][res_df['Mentions'].apply(lambda x:x==['egy'])].index[4:]\n",
    "res_df.drop(index=to_remove_egy, inplace=True)\n",
    "\n",
    "to_remove_tun=res_df[res_df['SampleGroup']=='with_mention_arab'][res_df['Mentions'].apply(lambda x:x==['tun'])].index[:7]\n",
    "res_df.drop(index=to_remove_tun, inplace=True)\n"
   ]
  },
  {
   "cell_type": "code",
   "execution_count": 144,
   "metadata": {},
   "outputs": [],
   "source": [
    "res_df.to_csv('final_annotated.csv', index=False)"
   ]
  },
  {
   "cell_type": "code",
   "execution_count": 128,
   "metadata": {},
   "outputs": [
    {
     "data": {
      "text/plain": [
       "SampleGroup\n",
       "field_20             520\n",
       "with_mention         277\n",
       "with_mention_arab    203\n",
       "Name: count, dtype: int64"
      ]
     },
     "execution_count": 128,
     "metadata": {},
     "output_type": "execute_result"
    }
   ],
   "source": [
    "res_df.SampleGroup.value_counts()"
   ]
  },
  {
   "cell_type": "code",
   "execution_count": 138,
   "metadata": {},
   "outputs": [
    {
     "name": "stderr",
     "output_type": "stream",
     "text": [
      "C:\\Users\\Yasaman\\AppData\\Local\\Temp\\ipykernel_24012\\2160173882.py:1: UserWarning: Boolean Series key will be reindexed to match DataFrame index.\n",
      "  to_remove_jor=res_df[res_df['SampleGroup']=='with_mention_arab'][res_df['Mentions'].apply(lambda x:x==['jor'])].index[:3]\n"
     ]
    }
   ],
   "source": [
    "to_remove_jor=res_df[res_df['SampleGroup']=='with_mention_arab'][res_df['Mentions'].apply(lambda x:x==['jor'])].index[:3]\n"
   ]
  },
  {
   "cell_type": "code",
   "execution_count": 140,
   "metadata": {},
   "outputs": [],
   "source": [
    "res_df.loc[to_remove_jor, 'SampleGroup'] = 'with_mention'\n"
   ]
  }
 ],
 "metadata": {
  "kernelspec": {
   "display_name": "base",
   "language": "python",
   "name": "python3"
  },
  "language_info": {
   "codemirror_mode": {
    "name": "ipython",
    "version": 3
   },
   "file_extension": ".py",
   "mimetype": "text/x-python",
   "name": "python",
   "nbconvert_exporter": "python",
   "pygments_lexer": "ipython3",
   "version": "3.11.10"
  }
 },
 "nbformat": 4,
 "nbformat_minor": 2
}
